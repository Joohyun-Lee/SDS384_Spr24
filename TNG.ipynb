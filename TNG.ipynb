{
 "cells": [
  {
   "cell_type": "code",
   "execution_count": 31,
   "metadata": {},
   "outputs": [],
   "source": [
    "import h5py\n",
    "import numpy as np\n",
    "import matplotlib as mpl\n",
    "import matplotlib.pyplot as plt\n",
    "from scipy.spatial import cKDTree\n",
    "from sklearn.neighbors import KDTree\n",
    "from sklearn.neighbors import NearestNeighbors\n",
    "\n",
    "\n",
    "import os\n",
    "from os.path import isfile, join\n",
    "import sys\n",
    "\n",
    "\n",
    "import yt\n",
    "from yt.utilities.cosmology import Cosmology\n",
    "\n",
    "\n",
    "plt.rcParams['font.weight'] = 'normal'\n",
    "plt.rcParams['text.usetex']=True\n",
    "plt.rcParams['font.family']='stixgeneral'\n",
    "plt.rcParams['mathtext.fontset']='stix'\n",
    "plt.rcParams['font.size'] = 12\n",
    "plt.rcParams['figure.facecolor'] = 'white'"
   ]
  },
  {
   "cell_type": "code",
   "execution_count": null,
   "metadata": {},
   "outputs": [],
   "source": []
  },
  {
   "cell_type": "code",
   "execution_count": 69,
   "metadata": {},
   "outputs": [
    {
     "name": "stdout",
     "output_type": "stream",
     "text": [
      "/data/jhl1862/TNG\n"
     ]
    }
   ],
   "source": [
    "!pwd"
   ]
  },
  {
   "cell_type": "code",
   "execution_count": null,
   "metadata": {},
   "outputs": [],
   "source": []
  },
  {
   "cell_type": "markdown",
   "metadata": {},
   "source": [
    "How to download sublink mergertree data (change API-key)\n",
    "\n",
    "wget -nd -nc -nv -e robots=off -l 1 -r -A hdf5 --content-disposition --header=\"API-Key: 74cc6d5897de914d213fb0b6104df40a\" \"http://www.tng-project.org/api/TNG100-1/files/sublink/?format=api\" --no-check-certificate"
   ]
  },
  {
   "cell_type": "code",
   "execution_count": null,
   "metadata": {},
   "outputs": [],
   "source": []
  },
  {
   "cell_type": "markdown",
   "metadata": {},
   "source": [
    "https://www.tng-project.org/data/docs/specifications/"
   ]
  },
  {
   "cell_type": "code",
   "execution_count": null,
   "metadata": {},
   "outputs": [],
   "source": []
  },
  {
   "cell_type": "code",
   "execution_count": null,
   "metadata": {},
   "outputs": [],
   "source": []
  },
  {
   "cell_type": "markdown",
   "metadata": {},
   "source": [
    "Redshift and Age for each snapshot (0 to 99)"
   ]
  },
  {
   "cell_type": "code",
   "execution_count": 6,
   "metadata": {},
   "outputs": [],
   "source": [
    "h=0.6774\n",
    "\n",
    "\n",
    "z_list=[20.05, 14.99, 11.98, 10.98, 10.00, 9.39, 9.00, 8.45, 8.01, 7.60, 7.24, 7.01, 6.49, 6.01, 5.85, 5.53, 5.23, 5.00, 4.66, 4.43, 4.18, 4.01, 3.71, 3.49, 3.28, 3.01, 2.90, 2.73, 2.58, 2.44,\\\n",
    "   2.32, 2.21, 2.10, 2.00, 1.90, 1.82, 1.74, 1.67, 1.60, 1.53, 1.50, 1.41, 1.36, 1.30, 1.25, 1.21, 1.15, 1.11, 1.07, 1.04, 1.00, 0.95, 0.92, 0.89, 0.85, 0.82, 0.79, 0.76, 0.73, 0.70, 0.68,\\\n",
    "   0.64, 0.62, 0.60, 0.58, 0.55, 0.52, 0.50, 0.48, 0.46, 0.44, 0.42, 0.40, 0.38, 0.36, 0.35, 0.33, 0.31, 0.30, 0.27, 0.26, 0.24, 0.23, 0.21, 0.20, 0.18, 0.17, 0.15, 0.14, 0.13, 0.11, 0.10,\n",
    "   0.08, 0.07, 0.06, 0.05, 0.03, 0.02, 0.01, 0.00]\n",
    "t_list=[0.129, 0.271, 0.370, 0.418, 0.475, 0.517, 0.547, 0.596, 0.640, 0.687, 0.732, 0.764, 0.844, 0.932, 0.965, 1.036, 1.112, 1.177, 1.282, 1.366, 1.466, 1.540, 1.689, 1.812, 1.944, 2.145,\\\n",
    "   2.238, 2.384, 2.539, 2.686, 2.839, 2.981, 3.129, 3.285, 3.447, 3.593, 3.744, 3.902, 4.038, 4.206, 4.293, 4.502, 4.657, 4.816, 4.980, 5.115, 5.289, 5.431, 5.577, 5.726, 5.878, 6.073,\\\n",
    "   6.193, 6.356, 6.522, 6.692, 6.822, 6.998, 7.132, 7.314, 7.453, 7.642, 7.786, 7.932, 8.079, 8.280, 8.432, 8.587, 8.743, 8.902, 9.062, 9.225, 9.389, 9.556, 9.724, 9.837, 10.009, 10.182,\\\n",
    "   10.299, 10.535, 10.654, 10.834, 11.016, 11.138, 11.323, 11.509, 11.635, 11.824, 11.951, 12.143, 12.337, 12.467, 12.663, 12.795, 12.993, 13.127, 13.328, 13.463, 13.667, 13.803]"
   ]
  },
  {
   "cell_type": "code",
   "execution_count": null,
   "metadata": {},
   "outputs": [],
   "source": []
  },
  {
   "cell_type": "code",
   "execution_count": null,
   "metadata": {},
   "outputs": [],
   "source": []
  },
  {
   "cell_type": "markdown",
   "metadata": {},
   "source": [
    "How to read a hdf5 file"
   ]
  },
  {
   "cell_type": "code",
   "execution_count": 23,
   "metadata": {},
   "outputs": [
    {
     "data": {
      "text/plain": [
       "['DescendantID',\n",
       " 'FirstProgenitorID',\n",
       " 'FirstSubhaloInFOFGroupID',\n",
       " 'GroupBHMass',\n",
       " 'GroupBHMdot',\n",
       " 'GroupCM',\n",
       " 'GroupFirstSub',\n",
       " 'GroupGasMetalFractions',\n",
       " 'GroupGasMetallicity',\n",
       " 'GroupLen',\n",
       " 'GroupLenType',\n",
       " 'GroupMass',\n",
       " 'GroupMassType',\n",
       " 'GroupNsubs',\n",
       " 'GroupPos',\n",
       " 'GroupSFR',\n",
       " 'GroupStarMetalFractions',\n",
       " 'GroupStarMetallicity',\n",
       " 'GroupVel',\n",
       " 'GroupWindMass',\n",
       " 'Group_M_Crit200',\n",
       " 'Group_M_Crit500',\n",
       " 'Group_M_Mean200',\n",
       " 'Group_M_TopHat200',\n",
       " 'Group_R_Crit200',\n",
       " 'Group_R_Crit500',\n",
       " 'Group_R_Mean200',\n",
       " 'Group_R_TopHat200',\n",
       " 'LastProgenitorID',\n",
       " 'MainLeafProgenitorID',\n",
       " 'Mass',\n",
       " 'MassHistory',\n",
       " 'NextProgenitorID',\n",
       " 'NextSubhaloInFOFGroupID',\n",
       " 'NumParticles',\n",
       " 'RootDescendantID',\n",
       " 'SnapNum',\n",
       " 'SubfindID',\n",
       " 'SubhaloBHMass',\n",
       " 'SubhaloBHMdot',\n",
       " 'SubhaloBfldDisk',\n",
       " 'SubhaloBfldHalo',\n",
       " 'SubhaloCM',\n",
       " 'SubhaloGasMetalFractions',\n",
       " 'SubhaloGasMetalFractionsHalfRad',\n",
       " 'SubhaloGasMetalFractionsMaxRad',\n",
       " 'SubhaloGasMetalFractionsSfr',\n",
       " 'SubhaloGasMetalFractionsSfrWeighted',\n",
       " 'SubhaloGasMetallicity',\n",
       " 'SubhaloGasMetallicityHalfRad',\n",
       " 'SubhaloGasMetallicityMaxRad',\n",
       " 'SubhaloGasMetallicitySfr',\n",
       " 'SubhaloGasMetallicitySfrWeighted',\n",
       " 'SubhaloGrNr',\n",
       " 'SubhaloHalfmassRad',\n",
       " 'SubhaloHalfmassRadType',\n",
       " 'SubhaloID',\n",
       " 'SubhaloIDMostbound',\n",
       " 'SubhaloIDRaw',\n",
       " 'SubhaloLen',\n",
       " 'SubhaloLenType',\n",
       " 'SubhaloMass',\n",
       " 'SubhaloMassInHalfRad',\n",
       " 'SubhaloMassInHalfRadType',\n",
       " 'SubhaloMassInMaxRad',\n",
       " 'SubhaloMassInMaxRadType',\n",
       " 'SubhaloMassInRad',\n",
       " 'SubhaloMassInRadType',\n",
       " 'SubhaloMassType',\n",
       " 'SubhaloParent',\n",
       " 'SubhaloPos',\n",
       " 'SubhaloSFR',\n",
       " 'SubhaloSFRinHalfRad',\n",
       " 'SubhaloSFRinMaxRad',\n",
       " 'SubhaloSFRinRad',\n",
       " 'SubhaloSpin',\n",
       " 'SubhaloStarMetalFractions',\n",
       " 'SubhaloStarMetalFractionsHalfRad',\n",
       " 'SubhaloStarMetalFractionsMaxRad',\n",
       " 'SubhaloStarMetallicity',\n",
       " 'SubhaloStarMetallicityHalfRad',\n",
       " 'SubhaloStarMetallicityMaxRad',\n",
       " 'SubhaloStellarPhotometrics',\n",
       " 'SubhaloStellarPhotometricsMassInRad',\n",
       " 'SubhaloStellarPhotometricsRad',\n",
       " 'SubhaloVel',\n",
       " 'SubhaloVelDisp',\n",
       " 'SubhaloVmax',\n",
       " 'SubhaloVmaxRad',\n",
       " 'SubhaloWindMass',\n",
       " 'TreeID']"
      ]
     },
     "execution_count": 23,
     "metadata": {},
     "output_type": "execute_result"
    }
   ],
   "source": [
    "i=0\n",
    "\n",
    "f=h5py.File('/data/shared/IllustrisTNG/illustris/data/tng/tree_extended.{}.hdf5'.format(i),'r')\n",
    "t=list(f.keys())\n",
    "\n",
    "f.close()\n",
    "\n",
    "t"
   ]
  },
  {
   "cell_type": "code",
   "execution_count": null,
   "metadata": {},
   "outputs": [],
   "source": []
  },
  {
   "cell_type": "markdown",
   "metadata": {},
   "source": [
    "How to read SubLink data"
   ]
  },
  {
   "cell_type": "code",
   "execution_count": null,
   "metadata": {},
   "outputs": [],
   "source": []
  },
  {
   "cell_type": "code",
   "execution_count": null,
   "metadata": {},
   "outputs": [],
   "source": []
  },
  {
   "cell_type": "code",
   "execution_count": null,
   "metadata": {},
   "outputs": [],
   "source": []
  },
  {
   "cell_type": "code",
   "execution_count": 33,
   "metadata": {},
   "outputs": [
    {
     "name": "stdout",
     "output_type": "stream",
     "text": [
      "(139392,)\n",
      "(107065,)\n",
      "(83729,)\n",
      "(134791,)\n",
      "(136931,)\n",
      "(138883,)\n",
      "(139089,)\n",
      "(137038,)\n",
      "(137592,)\n",
      "(145021,)\n",
      "(160816,)\n",
      "(190433,)\n",
      "(228089,)\n",
      "(253521,)\n",
      "(292078,)\n",
      "(327000,)\n",
      "(372633,)\n",
      "(488416,)\n",
      "(488276,)\n",
      "(260854,)\n",
      "(4361647, 1)\n"
     ]
    }
   ],
   "source": [
    "for j in [99]: #range(100):\n",
    "    mass = np.zeros((1,1))\n",
    "    \n",
    "    for i in range(20):\n",
    "        with h5py.File(\"/data/shared/IllustrisTNG/illustris/data/tng/tree_extended.{}.hdf5\".format(i), 'r') as f:\n",
    "            snap = np.array(f['SnapNum'])\n",
    "            index=np.where(snap==j)[0]\n",
    "            \n",
    "            mass_t=np.array(f['SubhaloMass'])[index]*1e10/h\n",
    "            print(mass_t.shape)\n",
    "            mass_t=mass_t[:,np.newaxis]\n",
    "            mass = np.r_[mass, mass_t]\n",
    "            \n",
    "            \n",
    "    mass=mass[1:,:]\n",
    "    print(mass.shape)\n",
    "    np.save(\"./m_halo_tng100-1_\"+str(j)+\"th\", mass)"
   ]
  },
  {
   "cell_type": "code",
   "execution_count": null,
   "metadata": {},
   "outputs": [],
   "source": []
  },
  {
   "cell_type": "code",
   "execution_count": 22,
   "metadata": {},
   "outputs": [
    {
     "data": {
      "text/plain": [
       "(array([2.290000e+02, 2.987422e+06, 1.051274e+06, 2.464200e+05,\n",
       "        5.755400e+04, 1.460900e+04, 3.361000e+03, 6.310000e+02,\n",
       "        1.270000e+02, 2.000000e+01]),\n",
       " array([ 7.43275142,  8.15029016,  8.86782891,  9.58536766, 10.30290641,\n",
       "        11.02044516, 11.73798391, 12.45552266, 13.17306141, 13.89060016,\n",
       "        14.6081389 ]),\n",
       " <a list of 10 Patch objects>)"
      ]
     },
     "execution_count": 22,
     "metadata": {},
     "output_type": "execute_result"
    },
    {
     "data": {
      "image/png": "[encoded data removed]",
      "text/plain": [
       "<Figure size 432x288 with 1 Axes>"
      ]
     },
     "metadata": {
      "needs_background": "light"
     },
     "output_type": "display_data"
    }
   ],
   "source": [
    "plt.hist(np.log10(mass))"
   ]
  },
  {
   "cell_type": "code",
   "execution_count": null,
   "metadata": {},
   "outputs": [],
   "source": []
  },
  {
   "cell_type": "code",
   "execution_count": null,
   "metadata": {},
   "outputs": [],
   "source": []
  },
  {
   "cell_type": "code",
   "execution_count": 29,
   "metadata": {},
   "outputs": [
    {
     "name": "stdout",
     "output_type": "stream",
     "text": [
      "(139392, 3)\n",
      "(107065, 3)\n",
      "(83729, 3)\n",
      "(134791, 3)\n",
      "(136931, 3)\n",
      "(138883, 3)\n",
      "(139089, 3)\n",
      "(137038, 3)\n",
      "(137592, 3)\n",
      "(145021, 3)\n",
      "(160816, 3)\n",
      "(190433, 3)\n",
      "(228089, 3)\n",
      "(253521, 3)\n",
      "(292078, 3)\n",
      "(327000, 3)\n",
      "(372633, 3)\n",
      "(488416, 3)\n",
      "(488276, 3)\n",
      "(260854, 3)\n",
      "(4361647, 3)\n"
     ]
    }
   ],
   "source": [
    "for j in [99]: #range(100):\n",
    "    pos = np.zeros((1,3))\n",
    "    \n",
    "    for i in range(20):\n",
    "        with h5py.File(\"/data/shared/IllustrisTNG/illustris/data/tng/tree_extended.{}.hdf5\".format(i), 'r') as f:\n",
    "            snap = np.array(f['SnapNum'])\n",
    "            index=np.where(snap==j)[0]\n",
    "            \n",
    "            pos_t=np.array(f['SubhaloPos'])[index]/h/(1+z_list[j]) # kpc unit\n",
    "            print(pos_t.shape)\n",
    "            pos = np.r_[pos, pos_t]\n",
    "            \n",
    "            \n",
    "    pos=pos[1:,:]\n",
    "    print(pos.shape)\n",
    "    np.save(\"./pos_halo_tng100-1_\"+str(j)+\"th\", pos)"
   ]
  },
  {
   "cell_type": "code",
   "execution_count": null,
   "metadata": {},
   "outputs": [],
   "source": []
  },
  {
   "cell_type": "code",
   "execution_count": 39,
   "metadata": {},
   "outputs": [],
   "source": [
    "j=99\n",
    "pos=np.load(\"./pos_halo_tng100-1_{}th.npy\".format(99))\n",
    "\n",
    "X=pos[:10000,:]\n",
    "nbrs = NearestNeighbors(n_neighbors=100, algorithm='ball_tree').fit(X)\n",
    "distances, indices = nbrs.kneighbors(X)"
   ]
  },
  {
   "cell_type": "code",
   "execution_count": null,
   "metadata": {},
   "outputs": [],
   "source": []
  },
  {
   "cell_type": "code",
   "execution_count": 65,
   "metadata": {},
   "outputs": [
    {
     "name": "stdout",
     "output_type": "stream",
     "text": [
      "[  0.          45.14859499  85.36318233  92.38158712 111.23930565\n",
      " 112.48543107 129.26624336 134.4501667  137.00486362 139.62822739\n",
      " 142.3096268  142.99411395 146.29023281 146.72297569 149.37175669\n",
      " 150.46584746 152.55941751 158.39823482 159.28197543 159.35497524\n",
      " 159.73352273 160.12629503 161.50094921 161.5447273  162.84135009\n",
      " 164.02249002 165.03726063 166.09775029 166.50132454 170.20541906\n",
      " 170.30612965 170.89886179 171.8750918  176.44480176 176.50367417\n",
      " 182.16496381 183.65909014 184.02122244 185.13768912 187.62836395\n",
      " 189.99894996 192.58232509 194.20513768 194.51032032 197.99783749\n",
      " 200.66842119 201.13203551 206.85193208 207.40483872 207.45735382\n",
      " 207.56045236 211.27805713 212.80989504 215.93260275 217.40982643\n",
      " 222.38058772 225.60568883 225.7725243  229.18259491 230.62897294\n",
      " 235.34512187 238.19796912 247.44552279 247.72432994 247.93511066\n",
      " 250.84192631 253.06085825 253.19257267 254.6504174  255.44195609\n",
      " 255.80938694 256.55593902 257.71281993 260.64857297 261.19969579\n",
      " 262.60352231 267.43131871 268.45528569 269.07358456 269.7165551\n",
      " 269.7909132  270.82309833 270.87801096 271.49462124 273.5542213\n",
      " 275.02572334 275.7347144  276.78629722 277.76169312 278.13406293\n",
      " 278.85908314 279.59040799 280.90887671 282.08025522 282.86377764\n",
      " 287.30119881 288.65494075 289.01000579 290.62143237 290.66710234]\n",
      "[  10 6276 3722 9622 3039 5584 2804 2552 9106 9642 3536 3446 5989 2697\n",
      " 3994 7923  171 7431 6873 2677   57 2179 3947 9121 9376 8871  836 9953\n",
      " 6515 2743 3693 5578 5160 6722 3728 5355 9631 2678 4567 2744 1581 5011\n",
      " 5819  776 4304 9370 8082 7609 6511 6988 3184 8639 2646 8831 7156 6006\n",
      " 1114 5830  951 7772 7450   88 1191 6095 2894  298 7448 4518 4615 4035\n",
      " 4865 9385 6645 4076 7123 6087 4965 1020  181   51 1897 9372 4929 5588\n",
      "  174 2554  233 6306 6506 2812 1497 8833 4408 5286    1 1098 4568 2357\n",
      " 2833 5072]\n"
     ]
    }
   ],
   "source": [
    "i_halo=10\n",
    "\n",
    "print(distances[i_halo,:])\n",
    "print(indices[i_halo])"
   ]
  },
  {
   "cell_type": "code",
   "execution_count": null,
   "metadata": {},
   "outputs": [],
   "source": []
  },
  {
   "cell_type": "code",
   "execution_count": 66,
   "metadata": {},
   "outputs": [
    {
     "name": "stdout",
     "output_type": "stream",
     "text": [
      "[[16790.00390625 74593.5703125  70649.0703125 ]\n",
      " [16795.91796875 74549.6328125  70640.53125   ]\n",
      " [16748.36914062 74664.7265625  70671.2109375 ]\n",
      " [16804.47851562 74673.8203125  70692.484375  ]\n",
      " [16822.8828125  74677.4609375  70714.3046875 ]\n",
      " [16739.25976562 74494.4921875  70665.2421875 ]\n",
      " [16667.109375   74633.3515625  70644.15625   ]\n",
      " [16770.70117188 74517.7421875  70539.734375  ]\n",
      " [16843.3828125  74719.         70635.34375   ]\n",
      " [16731.9609375  74707.9140625  70704.3203125 ]\n",
      " [16926.13476562 74627.9140625  70672.328125  ]\n",
      " [16738.65039062 74477.4453125  70583.3046875 ]\n",
      " [16887.29296875 74552.359375   70750.25      ]\n",
      " [16662.72070312 74551.03125    70708.375     ]\n",
      " [16731.77148438 74592.2421875  70786.6171875 ]\n",
      " [16924.91015625 74560.109375   70706.6953125 ]\n",
      " [16905.3046875  74653.7578125  70569.3359375 ]\n",
      " [16779.41796875 74714.0546875  70546.7890625 ]\n",
      " [16798.359375   74570.4609375  70806.4453125 ]\n",
      " [16713.6328125  74673.375      70534.2109375 ]\n",
      " [16866.74023438 74607.1171875  70788.5078125 ]\n",
      " [16849.93359375 74448.1875     70679.28125   ]\n",
      " [16824.734375   74606.921875   70491.9140625 ]\n",
      " [16684.53710938 74708.59375    70690.8203125 ]\n",
      " [16643.16796875 74583.5078125  70579.390625  ]\n",
      " [16729.15039062 74671.8984375  70779.703125  ]\n",
      " [16898.69726562 74503.0859375  70564.0078125 ]\n",
      " [16741.41210938 74530.359375   70794.78125   ]\n",
      " [16940.96679688 74621.2578125  70713.6171875 ]\n",
      " [16728.74414062 74492.3984375  70526.671875  ]\n",
      " [16915.68359375 74500.2578125  70581.9765625 ]\n",
      " [16809.17578125 74559.921875   70482.6171875 ]\n",
      " [16700.69140625 74490.7734375  70544.203125  ]\n",
      " [16865.06640625 74752.7734375  70661.4296875 ]\n",
      " [16754.66796875 74583.9765625  70821.734375  ]\n",
      " [16870.81445312 74433.1953125  70679.625     ]\n",
      " [16662.28125    74724.8359375  70635.3984375 ]\n",
      " [16857.59570312 74741.53125    70735.109375  ]\n",
      " [16633.06445312 74501.0859375  70616.015625  ]\n",
      " [16816.63085938 74437.921875   70547.734375  ]\n",
      " [16702.69726562 74495.3125     70511.875     ]\n",
      " [16883.87304688 74440.7265625  70719.1796875 ]\n",
      " [16821.14257812 74502.8515625  70480.203125  ]\n",
      " [16847.39453125 74666.8984375  70478.296875  ]\n",
      " [16733.40039062 74748.125      70539.015625  ]\n",
      " [16652.96875    74730.59375    70596.9765625 ]\n",
      " [16732.34960938 74595.71875    70456.390625  ]\n",
      " [16864.23632812 74452.3984375  70780.78125   ]\n",
      " [16697.83789062 74697.5        70495.0546875 ]\n",
      " [16868.33007812 74673.2890625  70474.2890625 ]\n",
      " [16875.7578125  74454.921875   70520.6015625 ]\n",
      " [16671.47460938 74664.2578125  70489.09375   ]\n",
      " [16934.05664062 74461.484375   70564.8671875 ]\n",
      " [17005.5078125  74588.6328125  70661.7421875 ]\n",
      " [16792.88867188 74376.1796875  70649.234375  ]\n",
      " [16852.67578125 74402.5390625  70554.03125   ]\n",
      " [16936.0390625  74615.359375   70478.4921875 ]\n",
      " [16832.74609375 74376.0078125  70606.4921875 ]\n",
      " [16826.84570312 74702.5078125  70847.3125    ]\n",
      " [16861.6484375  74421.421875   70784.796875  ]\n",
      " [16881.66601562 74767.5        70778.4296875 ]\n",
      " [16737.35742188 74820.203125   70598.0390625 ]\n",
      " [17025.04882812 74516.421875   70643.4765625 ]\n",
      " [16905.859375   74764.3671875  70786.0859375 ]\n",
      " [16654.19335938 74397.2265625  70715.9765625 ]\n",
      " [16925.73046875 74733.2265625  70490.96875   ]\n",
      " [16949.25195312 74428.09375    70542.78125   ]\n",
      " [16553.80664062 74684.4921875  70656.1796875 ]\n",
      " [16708.35546875 74556.9765625  70410.65625   ]\n",
      " [16552.66601562 74530.0703125  70579.1484375 ]\n",
      " [16673.06835938 74428.5234375  70805.671875  ]\n",
      " [16550.0703125  74517.078125   70600.0625    ]\n",
      " [16883.13476562 74656.859375   70880.8828125 ]\n",
      " [16653.91210938 74372.2421875  70628.3203125 ]\n",
      " [17028.0625     74686.2109375  70594.5625    ]\n",
      " [16638.08007812 74779.390625   70542.53125   ]\n",
      " [16913.97851562 74695.9296875  70862.78125   ]\n",
      " [16571.37109375 74454.5        70578.875     ]\n",
      " [16918.86914062 74706.4765625  70441.59375   ]\n",
      " [17031.2265625  74637.0859375  70761.609375  ]\n",
      " [16605.28320312 74579.6328125  70452.9296875 ]\n",
      " [16571.9609375  74754.1484375  70653.203125  ]\n",
      " [16791.91992188 74615.375      70919.0625    ]\n",
      " [16698.78125    74447.5546875  70439.1484375 ]\n",
      " [16743.36132812 74861.2265625  70617.1875    ]\n",
      " [16648.54296875 74819.0546875  70718.2421875 ]\n",
      " [16970.32226562 74447.953125   70798.4375    ]\n",
      " [16800.99804688 74528.6640625  70917.9140625 ]\n",
      " [16832.05078125 74689.140625   70391.6796875 ]\n",
      " [16638.6875     74572.4609375  70881.484375  ]\n",
      " [16585.83398438 74407.4453125  70686.9453125 ]\n",
      " [16632.32617188 74761.1328125  70490.2265625 ]\n",
      " [16823.9375     74771.703125   70863.609375  ]\n",
      " [16810.71484375 74685.         70383.0234375 ]\n",
      " [16933.4921875  74708.21875    70433.9453125 ]\n",
      " [17015.1015625  74697.15625    70503.6640625 ]\n",
      " [16578.0703125  74738.8046875  70780.6484375 ]\n",
      " [17021.97265625 74485.1015625  70783.0546875 ]\n",
      " [16926.14453125 74356.8125     70748.4296875 ]\n",
      " [17052.39648438 74671.265625   70747.0546875 ]]\n"
     ]
    }
   ],
   "source": [
    "i_halo=indices[i_halo]\n",
    "print(pos[i_halo,:])"
   ]
  },
  {
   "cell_type": "code",
   "execution_count": null,
   "metadata": {},
   "outputs": [],
   "source": []
  },
  {
   "cell_type": "code",
   "execution_count": 67,
   "metadata": {},
   "outputs": [
    {
     "data": {
      "text/plain": [
       "array([[5.37905824e+11],\n",
       "       [3.06001568e+08],\n",
       "       [6.26930112e+08],\n",
       "       [1.56732528e+08],\n",
       "       [8.06052864e+08],\n",
       "       [3.65709184e+08],\n",
       "       [8.56268160e+08],\n",
       "       [7.77655168e+08],\n",
       "       [1.71659424e+08],\n",
       "       [1.56732528e+08],\n",
       "       [6.71710784e+08],\n",
       "       [6.94101120e+08],\n",
       "       [3.28391936e+08],\n",
       "       [9.40395072e+08],\n",
       "       [5.74685824e+08],\n",
       "       [2.16440128e+08],\n",
       "       [4.61915904e+09],\n",
       "       [2.38830496e+08],\n",
       "       [2.68684320e+08],\n",
       "       [9.47858496e+08],\n",
       "       [8.28911206e+10],\n",
       "       [1.18781427e+09],\n",
       "       [5.82149312e+08],\n",
       "       [1.71659424e+08],\n",
       "       [1.64195968e+08],\n",
       "       [1.79122864e+08],\n",
       "       [3.20168243e+09],\n",
       "       [1.49269056e+08],\n",
       "       [2.91074656e+08],\n",
       "       [9.18004736e+08],\n",
       "       [6.28056576e+08],\n",
       "       [3.65709184e+08],\n",
       "       [4.10489888e+08],\n",
       "       [2.76147776e+08],\n",
       "       [6.26930112e+08],\n",
       "       [3.88099552e+08],\n",
       "       [1.56732528e+08],\n",
       "       [9.34961472e+08],\n",
       "       [4.85124384e+08],\n",
       "       [9.04811008e+08],\n",
       "       [1.80223680e+09],\n",
       "       [4.25416800e+08],\n",
       "       [3.43318848e+08],\n",
       "       [4.54592154e+09],\n",
       "       [5.22441728e+08],\n",
       "       [1.64195968e+08],\n",
       "       [2.08976672e+08],\n",
       "       [2.31367040e+08],\n",
       "       [2.91074656e+08],\n",
       "       [2.61220864e+08],\n",
       "       [7.30180416e+08],\n",
       "       [1.86586320e+08],\n",
       "       [9.62785408e+08],\n",
       "       [1.79122864e+08],\n",
       "       [2.53757408e+08],\n",
       "       [3.28391936e+08],\n",
       "       [2.74912794e+09],\n",
       "       [3.43318848e+08],\n",
       "       [2.87958170e+09],\n",
       "       [2.23903584e+08],\n",
       "       [2.38830496e+08],\n",
       "       [5.36260895e+10],\n",
       "       [2.27851110e+09],\n",
       "       [3.20928480e+08],\n",
       "       [8.58297088e+08],\n",
       "       [3.29519667e+09],\n",
       "       [2.38830496e+08],\n",
       "       [4.92587840e+08],\n",
       "       [4.77660992e+08],\n",
       "       [5.67222400e+08],\n",
       "       [4.47807168e+08],\n",
       "       [1.64195968e+08],\n",
       "       [2.83611200e+08],\n",
       "       [5.59758976e+08],\n",
       "       [2.53757408e+08],\n",
       "       [3.20928480e+08],\n",
       "       [4.32880256e+08],\n",
       "       [2.51875789e+09],\n",
       "       [4.53541888e+09],\n",
       "       [9.83961928e+10],\n",
       "       [1.42915533e+09],\n",
       "       [1.64195968e+08],\n",
       "       [4.40343712e+08],\n",
       "       [3.65709184e+08],\n",
       "       [2.70709555e+10],\n",
       "       [1.00756614e+09],\n",
       "       [2.26280755e+10],\n",
       "       [3.06001568e+08],\n",
       "       [2.91074656e+08],\n",
       "       [8.88150912e+08],\n",
       "       [1.93240845e+09],\n",
       "       [1.79122864e+08],\n",
       "       [5.07514816e+08],\n",
       "       [3.89221280e+08],\n",
       "       [3.81785761e+12],\n",
       "       [2.91401344e+09],\n",
       "       [4.85124384e+08],\n",
       "       [1.10559552e+09],\n",
       "       [8.80687424e+08],\n",
       "       [4.17953344e+08]])"
      ]
     },
     "execution_count": 67,
     "metadata": {},
     "output_type": "execute_result"
    }
   ],
   "source": [
    "mass[i_halo]"
   ]
  },
  {
   "cell_type": "code",
   "execution_count": null,
   "metadata": {},
   "outputs": [],
   "source": []
  },
  {
   "cell_type": "code",
   "execution_count": null,
   "metadata": {},
   "outputs": [],
   "source": []
  },
  {
   "cell_type": "code",
   "execution_count": 32,
   "metadata": {},
   "outputs": [
    {
     "data": {
      "image/png": "[encoded data removed]",
      "text/plain": [
       "<Figure size 600x600 with 1 Axes>"
      ]
     },
     "metadata": {},
     "output_type": "display_data"
    }
   ],
   "source": [
    "fig=plt.figure(figsize=(6,6),dpi=100)\n",
    "ax1=fig.add_subplot(111)\n",
    "\n",
    "\n",
    "ax1.plot(pos[i_halo,0], pos[i_halo,1], '.')\n",
    "\n",
    "\n",
    "ax1.set_xlabel(r'$\\Delta x$ (kpc)')\n",
    "ax1.set_ylabel(r'$\\Delta y$ (kpc)')\n",
    "\n",
    "\n",
    "#ax1.set_xlim(0,3e4)\n",
    "#ax1.set_ylim(1e1, 4e8)\n",
    "\n",
    "\n",
    "#ax1.legend(loc=2)\n",
    "#ax2.legend(loc=1)\n",
    "\n",
    "ax1.grid()"
   ]
  },
  {
   "cell_type": "code",
   "execution_count": null,
   "metadata": {},
   "outputs": [],
   "source": []
  },
  {
   "cell_type": "code",
   "execution_count": null,
   "metadata": {},
   "outputs": [],
   "source": []
  },
  {
   "cell_type": "code",
   "execution_count": 9,
   "metadata": {},
   "outputs": [
    {
     "name": "stdout",
     "output_type": "stream",
     "text": [
      "3.45e+00\n"
     ]
    }
   ],
   "source": [
    "print(\"{:.2e}\".format(3.45456457))"
   ]
  },
  {
   "cell_type": "code",
   "execution_count": null,
   "metadata": {},
   "outputs": [],
   "source": []
  }
 ],
 "metadata": {
  "kernelspec": {
   "display_name": "Python 3 (ipykernel)",
   "language": "python",
   "name": "python3"
  },
  "language_info": {
   "codemirror_mode": {
    "name": "ipython",
    "version": 3
   },
   "file_extension": ".py",
   "mimetype": "text/x-python",
   "name": "python",
   "nbconvert_exporter": "python",
   "pygments_lexer": "ipython3",
   "version": "3.7.11"
  }
 },
 "nbformat": 4,
 "nbformat_minor": 4
}
